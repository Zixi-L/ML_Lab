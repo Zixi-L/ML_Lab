{
 "cells": [
  {
   "cell_type": "markdown",
   "metadata": {},
   "source": [
    " "
   ]
  },
  {
   "cell_type": "markdown",
   "metadata": {},
   "source": [
    "Research Question / Hypothesis\n",
    "----\n",
    "\n",
    "What are the most important features to predict media influence (Total Interaction) for Facebook Page.\n",
    "\n"
   ]
  },
  {
   "cell_type": "markdown",
   "metadata": {},
   "source": [
    "Load Data\n",
    "-----"
   ]
  },
  {
   "cell_type": "code",
   "execution_count": 8,
   "metadata": {},
   "outputs": [],
   "source": [
    "reset -sf"
   ]
  },
  {
   "cell_type": "code",
   "execution_count": 9,
   "metadata": {},
   "outputs": [],
   "source": [
    "import pandas as pd\n",
    "import numpy as np\n",
    "\n",
    "import warnings\n",
    "warnings.filterwarnings(\"ignore\")"
   ]
  },
  {
   "cell_type": "code",
   "execution_count": 10,
   "metadata": {},
   "outputs": [
    {
     "data": {
      "text/plain": [
       "pandas.core.frame.DataFrame"
      ]
     },
     "execution_count": 10,
     "metadata": {},
     "output_type": "execute_result"
    }
   ],
   "source": [
    "facebook_df = pd.read_csv('dataset_Facebook.csv', sep=';')\n",
    "type(facebook_df)"
   ]
  },
  {
   "cell_type": "code",
   "execution_count": 11,
   "metadata": {},
   "outputs": [
    {
     "data": {
      "text/plain": [
       "(500, 19)"
      ]
     },
     "execution_count": 11,
     "metadata": {},
     "output_type": "execute_result"
    }
   ],
   "source": [
    "facebook_df.shape"
   ]
  },
  {
   "cell_type": "markdown",
   "metadata": {},
   "source": [
    "Feature Engineering\n",
    "----"
   ]
  },
  {
   "cell_type": "code",
   "execution_count": 17,
   "metadata": {},
   "outputs": [
    {
     "data": {
      "text/plain": [
       "((500, 18), (500,))"
      ]
     },
     "execution_count": 17,
     "metadata": {},
     "output_type": "execute_result"
    }
   ],
   "source": [
    "from sklearn.preprocessing import OneHotEncoder\n",
    "from sklearn.pipeline import Pipeline\n",
    "from sklearn.impute import SimpleImputer\n",
    "from sklearn.compose import ColumnTransformer\n",
    "from sklearn.impute  import KNNImputer\n",
    "from sklearn.preprocessing import StandardScaler\n",
    "from sklearn.linear_model  import LinearRegression, Lasso, Ridge, ElasticNet, HuberRegressor, BayesianRidge\n",
    "from sklearn.pipeline      import Pipeline\n",
    "from sklearn.model_selection import train_test_split\n",
    "from sklearn.model_selection  import RandomizedSearchCV\n",
    "from sklearn.base import BaseEstimator\n",
    "\n",
    "X = facebook_df.drop(['Total Interactions'], axis=1)\n",
    "y = facebook_df['Total Interactions']\n",
    "X.shape, y.shape"
   ]
  },
  {
   "cell_type": "markdown",
   "metadata": {},
   "source": [
    "#### convert categorical to numerical and deal with missing Data "
   ]
  },
  {
   "cell_type": "code",
   "execution_count": 18,
   "metadata": {},
   "outputs": [],
   "source": [
    "categorical_features = (X.dtypes == object)\n",
    "\n",
    "numeric_features = (X.dtypes != object)\n",
    "\n",
    "numeric_transformer = Pipeline(steps=[\n",
    "    ('knn_imputer', KNNImputer()),\n",
    "    ('scaler', StandardScaler())])\n",
    "\n",
    "# Ignore categorical none values\n",
    "categorical_transformer = OneHotEncoder(handle_unknown='ignore')\n",
    "\n",
    "# preprocess the features\n",
    "preprocessor = ColumnTransformer([('num', numeric_transformer, numeric_features),\n",
    "        ('cat', categorical_transformer, categorical_features)])\n",
    "\n",
    "# Build the preprocessor pipeline\n",
    "pipe = Pipeline(steps=[('preprocessor', preprocessor)])"
   ]
  },
  {
   "cell_type": "markdown",
   "metadata": {},
   "source": [
    "Cross Validation and Model Selection\n",
    "----"
   ]
  },
  {
   "cell_type": "code",
   "execution_count": 24,
   "metadata": {},
   "outputs": [
    {
     "name": "stdout",
     "output_type": "stream",
     "text": [
      "Fitting 5 folds for each of 3 candidates, totalling 15 fits\n"
     ]
    },
    {
     "name": "stderr",
     "output_type": "stream",
     "text": [
      "[Parallel(n_jobs=-1)]: Using backend LokyBackend with 16 concurrent workers.\n",
      "[Parallel(n_jobs=-1)]: Done  15 out of  15 | elapsed:    2.3s finished\n"
     ]
    }
   ],
   "source": [
    "class DummyEstimator(BaseEstimator):\n",
    "    def fit(self): pass\n",
    "    def score(self): pass\n",
    "    \n",
    "# Create a pipeline\n",
    "\n",
    "pipe = Pipeline([('preprocessor', preprocessor),\n",
    "                 ('lr', DummyEstimator())]) # Placeholder Estimator\n",
    "\n",
    "search_space = [{'lr': [LinearRegression()]},\n",
    "                {'lr': [Lasso()]},\n",
    "                {'lr': [BayesianRidge()]}]\n",
    "\n",
    "lr_algos_rand = RandomizedSearchCV(estimator=pipe, \n",
    "                                    param_distributions=search_space, \n",
    "                                    n_iter=25,\n",
    "                                    cv=5, \n",
    "                                    n_jobs=-1,\n",
    "                                    verbose=1)\n",
    "\n",
    "X_train, X_test, y_train, y_test = train_test_split(X, y)\n",
    "\n",
    "best_model = lr_algos_rand.fit(X_train, y_train)"
   ]
  },
  {
   "cell_type": "code",
   "execution_count": 25,
   "metadata": {},
   "outputs": [
    {
     "data": {
      "text/plain": [
       "{'cv': 5,\n",
       " 'error_score': nan,\n",
       " 'estimator__memory': None,\n",
       " 'estimator__steps': [('preprocessor',\n",
       "   ColumnTransformer(transformers=[('num',\n",
       "                                    Pipeline(steps=[('knn_imputer', KNNImputer()),\n",
       "                                                    ('scaler', StandardScaler())]),\n",
       "                                    Page total likes                                                        True\n",
       "   Type                                                                   False\n",
       "   Category                                                                True\n",
       "   Post Month                                                              True\n",
       "   Post Weekday                                                            True\n",
       "   Post Hour                                                               True\n",
       "   Paid                                                                    True\n",
       "   Lifetime Post Total Reach                                               True\n",
       "   Lifetime Post Total Impressions                                         True\n",
       "   Lifetime Engaged Users                                                  True\n",
       "   Lifetime Post Consumers                                                 True\n",
       "   Lifetime Post Consumptions                                              True\n",
       "   Lifetime Post Im...\n",
       "   Paid                                                                   False\n",
       "   Lifetime Post Total Reach                                              False\n",
       "   Lifetime Post Total Impressions                                        False\n",
       "   Lifetime Engaged Users                                                 False\n",
       "   Lifetime Post Consumers                                                False\n",
       "   Lifetime Post Consumptions                                             False\n",
       "   Lifetime Post Impressions by people who have liked your Page           False\n",
       "   Lifetime Post reach by people who like your Page                       False\n",
       "   Lifetime People who have liked your Page and engaged with your post    False\n",
       "   comment                                                                False\n",
       "   like                                                                   False\n",
       "   share                                                                  False\n",
       "   dtype: bool)])),\n",
       "  ('lr', DummyEstimator())],\n",
       " 'estimator__verbose': False,\n",
       " 'estimator__preprocessor': ColumnTransformer(transformers=[('num',\n",
       "                                  Pipeline(steps=[('knn_imputer', KNNImputer()),\n",
       "                                                  ('scaler', StandardScaler())]),\n",
       "                                  Page total likes                                                        True\n",
       " Type                                                                   False\n",
       " Category                                                                True\n",
       " Post Month                                                              True\n",
       " Post Weekday                                                            True\n",
       " Post Hour                                                               True\n",
       " Paid                                                                    True\n",
       " Lifetime Post Total Reach                                               True\n",
       " Lifetime Post Total Impressions                                         True\n",
       " Lifetime Engaged Users                                                  True\n",
       " Lifetime Post Consumers                                                 True\n",
       " Lifetime Post Consumptions                                              True\n",
       " Lifetime Post Im...\n",
       " Paid                                                                   False\n",
       " Lifetime Post Total Reach                                              False\n",
       " Lifetime Post Total Impressions                                        False\n",
       " Lifetime Engaged Users                                                 False\n",
       " Lifetime Post Consumers                                                False\n",
       " Lifetime Post Consumptions                                             False\n",
       " Lifetime Post Impressions by people who have liked your Page           False\n",
       " Lifetime Post reach by people who like your Page                       False\n",
       " Lifetime People who have liked your Page and engaged with your post    False\n",
       " comment                                                                False\n",
       " like                                                                   False\n",
       " share                                                                  False\n",
       " dtype: bool)]),\n",
       " 'estimator__lr': DummyEstimator(),\n",
       " 'estimator__preprocessor__n_jobs': None,\n",
       " 'estimator__preprocessor__remainder': 'drop',\n",
       " 'estimator__preprocessor__sparse_threshold': 0.3,\n",
       " 'estimator__preprocessor__transformer_weights': None,\n",
       " 'estimator__preprocessor__transformers': [('num',\n",
       "   Pipeline(steps=[('knn_imputer', KNNImputer()), ('scaler', StandardScaler())]),\n",
       "   Page total likes                                                        True\n",
       "   Type                                                                   False\n",
       "   Category                                                                True\n",
       "   Post Month                                                              True\n",
       "   Post Weekday                                                            True\n",
       "   Post Hour                                                               True\n",
       "   Paid                                                                    True\n",
       "   Lifetime Post Total Reach                                               True\n",
       "   Lifetime Post Total Impressions                                         True\n",
       "   Lifetime Engaged Users                                                  True\n",
       "   Lifetime Post Consumers                                                 True\n",
       "   Lifetime Post Consumptions                                              True\n",
       "   Lifetime Post Impressions by people who have liked your Page            True\n",
       "   Lifetime Post reach by people who like your Page                        True\n",
       "   Lifetime People who have liked your Page and engaged with your post     True\n",
       "   comment                                                                 True\n",
       "   like                                                                    True\n",
       "   share                                                                   True\n",
       "   dtype: bool),\n",
       "  ('cat',\n",
       "   OneHotEncoder(handle_unknown='ignore'),\n",
       "   Page total likes                                                       False\n",
       "   Type                                                                    True\n",
       "   Category                                                               False\n",
       "   Post Month                                                             False\n",
       "   Post Weekday                                                           False\n",
       "   Post Hour                                                              False\n",
       "   Paid                                                                   False\n",
       "   Lifetime Post Total Reach                                              False\n",
       "   Lifetime Post Total Impressions                                        False\n",
       "   Lifetime Engaged Users                                                 False\n",
       "   Lifetime Post Consumers                                                False\n",
       "   Lifetime Post Consumptions                                             False\n",
       "   Lifetime Post Impressions by people who have liked your Page           False\n",
       "   Lifetime Post reach by people who like your Page                       False\n",
       "   Lifetime People who have liked your Page and engaged with your post    False\n",
       "   comment                                                                False\n",
       "   like                                                                   False\n",
       "   share                                                                  False\n",
       "   dtype: bool)],\n",
       " 'estimator__preprocessor__verbose': False,\n",
       " 'estimator__preprocessor__num': Pipeline(steps=[('knn_imputer', KNNImputer()), ('scaler', StandardScaler())]),\n",
       " 'estimator__preprocessor__cat': OneHotEncoder(handle_unknown='ignore'),\n",
       " 'estimator__preprocessor__num__memory': None,\n",
       " 'estimator__preprocessor__num__steps': [('knn_imputer', KNNImputer()),\n",
       "  ('scaler', StandardScaler())],\n",
       " 'estimator__preprocessor__num__verbose': False,\n",
       " 'estimator__preprocessor__num__knn_imputer': KNNImputer(),\n",
       " 'estimator__preprocessor__num__scaler': StandardScaler(),\n",
       " 'estimator__preprocessor__num__knn_imputer__add_indicator': False,\n",
       " 'estimator__preprocessor__num__knn_imputer__copy': True,\n",
       " 'estimator__preprocessor__num__knn_imputer__metric': 'nan_euclidean',\n",
       " 'estimator__preprocessor__num__knn_imputer__missing_values': nan,\n",
       " 'estimator__preprocessor__num__knn_imputer__n_neighbors': 5,\n",
       " 'estimator__preprocessor__num__knn_imputer__weights': 'uniform',\n",
       " 'estimator__preprocessor__num__scaler__copy': True,\n",
       " 'estimator__preprocessor__num__scaler__with_mean': True,\n",
       " 'estimator__preprocessor__num__scaler__with_std': True,\n",
       " 'estimator__preprocessor__cat__categories': 'auto',\n",
       " 'estimator__preprocessor__cat__drop': None,\n",
       " 'estimator__preprocessor__cat__dtype': numpy.float64,\n",
       " 'estimator__preprocessor__cat__handle_unknown': 'ignore',\n",
       " 'estimator__preprocessor__cat__sparse': True,\n",
       " 'estimator': Pipeline(steps=[('preprocessor',\n",
       "                  ColumnTransformer(transformers=[('num',\n",
       "                                                   Pipeline(steps=[('knn_imputer',\n",
       "                                                                    KNNImputer()),\n",
       "                                                                   ('scaler',\n",
       "                                                                    StandardScaler())]),\n",
       "                                                   Page total likes                                                        True\n",
       " Type                                                                   False\n",
       " Category                                                                True\n",
       " Post Month                                                              True\n",
       " Post Weekday                                                            True\n",
       " Post Hour                                                               True\n",
       " Paid                                                                    True\n",
       " Lifetime Post Total Reach                                               True\n",
       " Lifetime Post Total Impressions                                         True\n",
       " Lifetime Engaged Users                                                  True\n",
       " Lifetime Post Consumers                                                 True\n",
       " Lifetime Po...\n",
       " Lifetime Post Total Reach                                              False\n",
       " Lifetime Post Total Impressions                                        False\n",
       " Lifetime Engaged Users                                                 False\n",
       " Lifetime Post Consumers                                                False\n",
       " Lifetime Post Consumptions                                             False\n",
       " Lifetime Post Impressions by people who have liked your Page           False\n",
       " Lifetime Post reach by people who like your Page                       False\n",
       " Lifetime People who have liked your Page and engaged with your post    False\n",
       " comment                                                                False\n",
       " like                                                                   False\n",
       " share                                                                  False\n",
       " dtype: bool)])),\n",
       "                 ('lr', DummyEstimator())]),\n",
       " 'iid': 'deprecated',\n",
       " 'n_iter': 25,\n",
       " 'n_jobs': -1,\n",
       " 'param_distributions': [{'lr': [LinearRegression()]},\n",
       "  {'lr': [Lasso()]},\n",
       "  {'lr': [BayesianRidge()]}],\n",
       " 'pre_dispatch': '2*n_jobs',\n",
       " 'random_state': None,\n",
       " 'refit': True,\n",
       " 'return_train_score': False,\n",
       " 'scoring': None,\n",
       " 'verbose': 1}"
      ]
     },
     "execution_count": 25,
     "metadata": {},
     "output_type": "execute_result"
    }
   ],
   "source": [
    "best_model.get_params()"
   ]
  },
  {
   "cell_type": "markdown",
   "metadata": {},
   "source": [
    "### The best model"
   ]
  },
  {
   "cell_type": "code",
   "execution_count": 26,
   "metadata": {},
   "outputs": [
    {
     "data": {
      "text/plain": [
       "LinearRegression()"
      ]
     },
     "execution_count": 26,
     "metadata": {},
     "output_type": "execute_result"
    }
   ],
   "source": [
    "best_model.best_estimator_.get_params()['lr']"
   ]
  },
  {
   "cell_type": "markdown",
   "metadata": {},
   "source": [
    "Evalustion Metric\n",
    "----"
   ]
  },
  {
   "cell_type": "code",
   "execution_count": 27,
   "metadata": {},
   "outputs": [],
   "source": [
    "pipe = Pipeline(steps=[('preprocessor', preprocessor),\n",
    "                      ('lr', LinearRegression())])\n",
    "\n",
    "X_train, X_validation, y_train, y_validation = train_test_split(X,y)\n",
    "pipe.fit(X_train, y_train)\n",
    "y_pred = pipe.predict(X_validation)"
   ]
  },
  {
   "cell_type": "code",
   "execution_count": 31,
   "metadata": {},
   "outputs": [
    {
     "name": "stdout",
     "output_type": "stream",
     "text": [
      "Mean squared error:         0.13\n",
      "Mean cubed error:         0.20\n",
      "Explained_variance_score: 1.0\n",
      "Max Error: 2.42729\n",
      "Mean abusolute error:  0.19705\n",
      "Explained variance score  1.0\n",
      "R2 score: 1.00000\n",
      "mean absolute error: 0.19705\n"
     ]
    }
   ],
   "source": [
    "def mean_cubed_error(y_true, y_pred):\n",
    "    output_errors = np.average(np.abs((y_true - y_pred) ** 3), axis=0)\n",
    "    return output_errors\n",
    "\n",
    "from sklearn.metrics import mean_squared_error\n",
    "mse = mean_squared_error(y_validation, y_pred)\n",
    "print(f\"Mean squared error: {mse:>12,.2f}\")\n",
    "mce = mean_cubed_error(y_validation, y_pred) \n",
    "print(f\"Mean cubed error: {mce:>12,.2f}\")\n",
    "\n",
    "from sklearn.metrics import explained_variance_score \n",
    "print(f\"Explained_variance_score: {explained_variance_score(y_validation, y_pred):.5}\")\n",
    "\n",
    "from sklearn.metrics import max_error\n",
    "print(f\"Max Error: {max_error(y_validation, y_pred):.5f}\")\n",
    "\n",
    "from sklearn.metrics import mean_absolute_error\n",
    "print(f\"Mean abusolute error: { mean_absolute_error(y_validation, y_pred): .5}\")\n",
    "\n",
    "from sklearn.metrics import explained_variance_score\n",
    "print(f\"Explained variance score {explained_variance_score(y_validation, y_pred): .5}\")\n",
    "\n",
    "from sklearn.metrics import r2_score\n",
    "print(f\"R2 score: {r2_score(y_validation, y_pred):.5f}\")\n",
    "\n",
    "from sklearn.metrics import mean_absolute_error\n",
    "print(f\"mean absolute error: {mean_absolute_error(y_validation, y_pred):.5f}\")"
   ]
  },
  {
   "cell_type": "code",
   "execution_count": null,
   "metadata": {},
   "outputs": [],
   "source": []
  }
 ],
 "metadata": {
  "kernelspec": {
   "display_name": "Python 3",
   "language": "python",
   "name": "python3"
  },
  "language_info": {
   "codemirror_mode": {
    "name": "ipython",
    "version": 3
   },
   "file_extension": ".py",
   "mimetype": "text/x-python",
   "name": "python",
   "nbconvert_exporter": "python",
   "pygments_lexer": "ipython3",
   "version": "3.7.9"
  },
  "toc": {
   "base_numbering": 1,
   "nav_menu": {},
   "number_sections": false,
   "sideBar": false,
   "skip_h1_title": false,
   "title_cell": "Table of Contents",
   "title_sidebar": "Contents",
   "toc_cell": true,
   "toc_position": {},
   "toc_section_display": true,
   "toc_window_display": false
  }
 },
 "nbformat": 4,
 "nbformat_minor": 4
}
